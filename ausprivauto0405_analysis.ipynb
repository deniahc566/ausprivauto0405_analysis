{
 "cells": [
  {
   "cell_type": "markdown",
   "id": "fcba03b3",
   "metadata": {},
   "source": [
    "**Thông tin về bộ dữ liệu**\n",
    "  \n",
    "Bảo hiểm trách nhiệm dân sự đối với bên thứ ba là một loại bảo hiểm bắt buộc dành cho chủ xe cơ giới tại Úc.  \n",
    "Bảo hiểm bên thứ ba đây là sản phẩm bảo hiểm trách nhiệm pháp lý của Bên mua bảo hiểm đối với Bên thứ 3 phát sinh khi xảy ra tai nạn gây thiệt hại về người và tài sản.  \n",
    "Bộ dữ liệu ausprivauto0405 được dựa trên số liệu về số hợp đồng bảo hiểm trách nhiệm dân sự đối với bên thứ ba dành cho xe cơ giới của một công ty bảo hiểm trong giai đoạn 2004 đến 2005.  \n",
    "Tổng cộng có 67856 hợp đồng, trong đó 4624 hợp đồng có ít nhất một yêu cầu bồi thường.  \n",
    "\n",
    "**Fields Definition:**\n",
    "\n",
    "`1. `Exposure: Số năm hiệu lực của hợp đồng.\\\n",
    "`2. `VehValue: Giá trị của xe tính bằng nghìn AUD.\\\n",
    "`3. `VehAge: Nhóm tuổi của xe.\\\n",
    "`4. `VehBody: Loại thân xe.\\\n",
    "`5. `Gender: Giới tính của chủ xe.\\\n",
    "`6. `DrivAge: Nhóm tuổi của chủ xe.\\\n",
    "`7. `ClaimOcc: Thể hiện có yêu cầu bồi thường (hiển thị giá trị 1) hoặc không có yêu cầu bồi thường (hiển thị giá trị 0).\\\n",
    "`8. `ClaimNb: Số yêu cầu bồi thường.\\\n",
    "`9. `ClaimAmount: Tổng số tiền bồi thường."
   ]
  },
  {
   "cell_type": "code",
   "execution_count": 123,
   "id": "8ba2f876",
   "metadata": {},
   "outputs": [],
   "source": [
    "import pandas as pd\n",
    "import numpy as np\n",
    "import seaborn as sns\n",
    "import pyreadr\n",
    "import matplotlib"
   ]
  },
  {
   "cell_type": "code",
   "execution_count": 95,
   "id": "34ca7e4b",
   "metadata": {
    "scrolled": true
   },
   "outputs": [
    {
     "data": {
      "text/html": [
       "<div>\n",
       "<style scoped>\n",
       "    .dataframe tbody tr th:only-of-type {\n",
       "        vertical-align: middle;\n",
       "    }\n",
       "\n",
       "    .dataframe tbody tr th {\n",
       "        vertical-align: top;\n",
       "    }\n",
       "\n",
       "    .dataframe thead th {\n",
       "        text-align: right;\n",
       "    }\n",
       "</style>\n",
       "<table border=\"1\" class=\"dataframe\">\n",
       "  <thead>\n",
       "    <tr style=\"text-align: right;\">\n",
       "      <th></th>\n",
       "      <th>Exposure</th>\n",
       "      <th>VehValue</th>\n",
       "      <th>VehAge</th>\n",
       "      <th>VehBody</th>\n",
       "      <th>Gender</th>\n",
       "      <th>DrivAge</th>\n",
       "      <th>ClaimOcc</th>\n",
       "      <th>ClaimNb</th>\n",
       "      <th>ClaimAmount</th>\n",
       "    </tr>\n",
       "  </thead>\n",
       "  <tbody>\n",
       "    <tr>\n",
       "      <th>0</th>\n",
       "      <td>0.303901</td>\n",
       "      <td>1.06</td>\n",
       "      <td>old cars</td>\n",
       "      <td>Hatchback</td>\n",
       "      <td>Female</td>\n",
       "      <td>young people</td>\n",
       "      <td>0</td>\n",
       "      <td>0</td>\n",
       "      <td>0.0</td>\n",
       "    </tr>\n",
       "    <tr>\n",
       "      <th>1</th>\n",
       "      <td>0.648871</td>\n",
       "      <td>1.03</td>\n",
       "      <td>young cars</td>\n",
       "      <td>Hatchback</td>\n",
       "      <td>Female</td>\n",
       "      <td>older work. people</td>\n",
       "      <td>0</td>\n",
       "      <td>0</td>\n",
       "      <td>0.0</td>\n",
       "    </tr>\n",
       "    <tr>\n",
       "      <th>2</th>\n",
       "      <td>0.569473</td>\n",
       "      <td>3.26</td>\n",
       "      <td>young cars</td>\n",
       "      <td>Utility</td>\n",
       "      <td>Female</td>\n",
       "      <td>young people</td>\n",
       "      <td>0</td>\n",
       "      <td>0</td>\n",
       "      <td>0.0</td>\n",
       "    </tr>\n",
       "    <tr>\n",
       "      <th>3</th>\n",
       "      <td>0.317591</td>\n",
       "      <td>4.14</td>\n",
       "      <td>young cars</td>\n",
       "      <td>Station wagon</td>\n",
       "      <td>Female</td>\n",
       "      <td>young people</td>\n",
       "      <td>0</td>\n",
       "      <td>0</td>\n",
       "      <td>0.0</td>\n",
       "    </tr>\n",
       "    <tr>\n",
       "      <th>4</th>\n",
       "      <td>0.648871</td>\n",
       "      <td>0.72</td>\n",
       "      <td>oldest cars</td>\n",
       "      <td>Hatchback</td>\n",
       "      <td>Female</td>\n",
       "      <td>young people</td>\n",
       "      <td>0</td>\n",
       "      <td>0</td>\n",
       "      <td>0.0</td>\n",
       "    </tr>\n",
       "  </tbody>\n",
       "</table>\n",
       "</div>"
      ],
      "text/plain": [
       "   Exposure  VehValue       VehAge        VehBody  Gender             DrivAge  \\\n",
       "0  0.303901      1.06     old cars      Hatchback  Female        young people   \n",
       "1  0.648871      1.03   young cars      Hatchback  Female  older work. people   \n",
       "2  0.569473      3.26   young cars        Utility  Female        young people   \n",
       "3  0.317591      4.14   young cars  Station wagon  Female        young people   \n",
       "4  0.648871      0.72  oldest cars      Hatchback  Female        young people   \n",
       "\n",
       "   ClaimOcc  ClaimNb  ClaimAmount  \n",
       "0         0        0          0.0  \n",
       "1         0        0          0.0  \n",
       "2         0        0          0.0  \n",
       "3         0        0          0.0  \n",
       "4         0        0          0.0  "
      ]
     },
     "execution_count": 95,
     "metadata": {},
     "output_type": "execute_result"
    }
   ],
   "source": [
    "#Tải bộ dữ liệu\n",
    "ausprivauto0405 = pyreadr.read_r(\"ausprivauto0405.rda\")\n",
    "ausprivauto0405_data = pd.DataFrame(ausprivauto0405[\"ausprivauto0405\"])\n",
    "\n",
    "#Xem nhanh 5 dòng đầu tiên\n",
    "ausprivauto0405_data.head(5)"
   ]
  },
  {
   "cell_type": "code",
   "execution_count": 91,
   "id": "f6ec849f",
   "metadata": {},
   "outputs": [
    {
     "name": "stdout",
     "output_type": "stream",
     "text": [
      "<class 'pandas.core.frame.DataFrame'>\n",
      "RangeIndex: 67856 entries, 0 to 67855\n",
      "Data columns (total 9 columns):\n",
      " #   Column       Non-Null Count  Dtype   \n",
      "---  ------       --------------  -----   \n",
      " 0   Exposure     67856 non-null  float64 \n",
      " 1   VehValue     67856 non-null  float64 \n",
      " 2   VehAge       67856 non-null  category\n",
      " 3   VehBody      67856 non-null  category\n",
      " 4   Gender       67856 non-null  category\n",
      " 5   DrivAge      67856 non-null  category\n",
      " 6   ClaimOcc     67856 non-null  int32   \n",
      " 7   ClaimNb      67856 non-null  int32   \n",
      " 8   ClaimAmount  67856 non-null  float64 \n",
      "dtypes: category(4), float64(3), int32(2)\n",
      "memory usage: 2.3 MB\n"
     ]
    },
    {
     "data": {
      "text/plain": [
       "Exposure       0\n",
       "VehValue       0\n",
       "VehAge         0\n",
       "VehBody        0\n",
       "Gender         0\n",
       "DrivAge        0\n",
       "ClaimOcc       0\n",
       "ClaimNb        0\n",
       "ClaimAmount    0\n",
       "dtype: int64"
      ]
     },
     "execution_count": 91,
     "metadata": {},
     "output_type": "execute_result"
    }
   ],
   "source": [
    "#Thông tin chung về bộ dữ liệu\n",
    "ausprivauto0405_data.info()\n",
    "#Kiểm tra các giá trị bị thiếu\n",
    "ausprivauto0405_data.isna().sum()"
   ]
  },
  {
   "cell_type": "code",
   "execution_count": 120,
   "id": "2d1e13e9",
   "metadata": {},
   "outputs": [
    {
     "data": {
      "text/html": [
       "<div>\n",
       "<style scoped>\n",
       "    .dataframe tbody tr th:only-of-type {\n",
       "        vertical-align: middle;\n",
       "    }\n",
       "\n",
       "    .dataframe tbody tr th {\n",
       "        vertical-align: top;\n",
       "    }\n",
       "\n",
       "    .dataframe thead th {\n",
       "        text-align: right;\n",
       "    }\n",
       "</style>\n",
       "<table border=\"1\" class=\"dataframe\">\n",
       "  <thead>\n",
       "    <tr style=\"text-align: right;\">\n",
       "      <th></th>\n",
       "      <th>Exposure</th>\n",
       "      <th>VehValue</th>\n",
       "      <th>ClaimOcc</th>\n",
       "      <th>ClaimNb</th>\n",
       "      <th>ClaimAmount</th>\n",
       "    </tr>\n",
       "  </thead>\n",
       "  <tbody>\n",
       "    <tr>\n",
       "      <th>count</th>\n",
       "      <td>67856.000000</td>\n",
       "      <td>67856.000000</td>\n",
       "      <td>67856.000000</td>\n",
       "      <td>67856.000000</td>\n",
       "      <td>67856.000000</td>\n",
       "    </tr>\n",
       "    <tr>\n",
       "      <th>mean</th>\n",
       "      <td>0.468652</td>\n",
       "      <td>1.777021</td>\n",
       "      <td>0.068144</td>\n",
       "      <td>0.072757</td>\n",
       "      <td>137.270167</td>\n",
       "    </tr>\n",
       "    <tr>\n",
       "      <th>std</th>\n",
       "      <td>0.290025</td>\n",
       "      <td>1.205232</td>\n",
       "      <td>0.251995</td>\n",
       "      <td>0.278204</td>\n",
       "      <td>1056.297768</td>\n",
       "    </tr>\n",
       "    <tr>\n",
       "      <th>min</th>\n",
       "      <td>0.002738</td>\n",
       "      <td>0.000000</td>\n",
       "      <td>0.000000</td>\n",
       "      <td>0.000000</td>\n",
       "      <td>0.000000</td>\n",
       "    </tr>\n",
       "    <tr>\n",
       "      <th>25%</th>\n",
       "      <td>0.219028</td>\n",
       "      <td>1.010000</td>\n",
       "      <td>0.000000</td>\n",
       "      <td>0.000000</td>\n",
       "      <td>0.000000</td>\n",
       "    </tr>\n",
       "    <tr>\n",
       "      <th>50%</th>\n",
       "      <td>0.446270</td>\n",
       "      <td>1.500000</td>\n",
       "      <td>0.000000</td>\n",
       "      <td>0.000000</td>\n",
       "      <td>0.000000</td>\n",
       "    </tr>\n",
       "    <tr>\n",
       "      <th>75%</th>\n",
       "      <td>0.709103</td>\n",
       "      <td>2.150000</td>\n",
       "      <td>0.000000</td>\n",
       "      <td>0.000000</td>\n",
       "      <td>0.000000</td>\n",
       "    </tr>\n",
       "    <tr>\n",
       "      <th>max</th>\n",
       "      <td>0.999316</td>\n",
       "      <td>34.560000</td>\n",
       "      <td>1.000000</td>\n",
       "      <td>4.000000</td>\n",
       "      <td>55922.129883</td>\n",
       "    </tr>\n",
       "  </tbody>\n",
       "</table>\n",
       "</div>"
      ],
      "text/plain": [
       "           Exposure      VehValue      ClaimOcc       ClaimNb   ClaimAmount\n",
       "count  67856.000000  67856.000000  67856.000000  67856.000000  67856.000000\n",
       "mean       0.468652      1.777021      0.068144      0.072757    137.270167\n",
       "std        0.290025      1.205232      0.251995      0.278204   1056.297768\n",
       "min        0.002738      0.000000      0.000000      0.000000      0.000000\n",
       "25%        0.219028      1.010000      0.000000      0.000000      0.000000\n",
       "50%        0.446270      1.500000      0.000000      0.000000      0.000000\n",
       "75%        0.709103      2.150000      0.000000      0.000000      0.000000\n",
       "max        0.999316     34.560000      1.000000      4.000000  55922.129883"
      ]
     },
     "execution_count": 120,
     "metadata": {},
     "output_type": "execute_result"
    }
   ],
   "source": [
    "#Thống kê chung của các cột chứa biến ở dạng số\n",
    "ausprivauto0405_data.describe()"
   ]
  },
  {
   "cell_type": "code",
   "execution_count": 148,
   "id": "77d978c7",
   "metadata": {},
   "outputs": [
    {
     "data": {
      "text/plain": [
       "<AxesSubplot:>"
      ]
     },
     "execution_count": 148,
     "metadata": {},
     "output_type": "execute_result"
    },
    {
     "data": {
      "image/png": "[encoded data removed]",
      "text/plain": [
       "<Figure size 640x480 with 1 Axes>"
      ]
     },
     "metadata": {},
     "output_type": "display_data"
    }
   ],
   "source": [
    "ausprivauto0405_data[ausprivauto0405_data['ClaimAmount']!=0]['ClaimAmount'].hist(bins=50)"
   ]
  },
  {
   "cell_type": "code",
   "execution_count": 119,
   "id": "2892d947",
   "metadata": {
    "scrolled": true
   },
   "outputs": [
    {
     "name": "stdout",
     "output_type": "stream",
     "text": [
      "VehAge:\n",
      "['old cars', 'young cars', 'oldest cars', 'youngest cars']\n",
      "VehBody:\n",
      "['Hatchback', 'Utility', 'Station wagon', 'Hardtop', 'Panel van', 'Sedan', 'Truck', 'Coupe', 'Minibus', 'Motorized caravan', 'Bus', 'Convertible', 'Roadster']\n",
      "Gender:\n",
      "['Female', 'Male']\n",
      "DrivAge:\n",
      "['young people', 'older work. people', 'oldest people', 'working people', 'old people', 'youngest people']\n"
     ]
    }
   ],
   "source": [
    "#Tổng quan các biến ở các cột chứa dữ liệu phân loại\n",
    "non_numeric_columns = ('VehAge', 'VehBody', 'Gender', 'DrivAge')\n",
    "for column in non_numeric_columns:\n",
    "    print(column + \":\")\n",
    "    print(ausprivauto0405_data[column].unique().to_list())"
   ]
  },
  {
   "cell_type": "code",
   "execution_count": 114,
   "id": "bbac655c",
   "metadata": {},
   "outputs": [
    {
     "data": {
      "text/plain": [
       "<AxesSubplot:xlabel='VehAge', ylabel='ClaimAmount'>"
      ]
     },
     "execution_count": 114,
     "metadata": {},
     "output_type": "execute_result"
    },
    {
     "data": {
      "image/png": "[encoded data removed]",
      "text/plain": [
       "<Figure size 640x480 with 1 Axes>"
      ]
     },
     "metadata": {},
     "output_type": "display_data"
    }
   ],
   "source": [
    "#Tổng số tiền bồi thường theo nhóm tuổi của xe\n",
    "sns.barplot(data=ausprivauto0405_data, x='VehAge', y='ClaimAmount')"
   ]
  },
  {
   "cell_type": "code",
   "execution_count": 118,
   "id": "818327ea",
   "metadata": {},
   "outputs": [
    {
     "data": {
      "text/plain": [
       "<AxesSubplot:xlabel='ClaimAmount', ylabel='DrivAge'>"
      ]
     },
     "execution_count": 118,
     "metadata": {},
     "output_type": "execute_result"
    },
    {
     "data": {
      "image/png": "[encoded data removed]",
      "text/plain": [
       "<Figure size 640x480 with 1 Axes>"
      ]
     },
     "metadata": {},
     "output_type": "display_data"
    }
   ],
   "source": [
    "#Tổng số tiền bồi thường theo nhóm tuổi của tài xế\n",
    "sns.barplot(data=ausprivauto0405_data, y='DrivAge', x='ClaimAmount', orient='h')"
   ]
  },
  {
   "cell_type": "code",
   "execution_count": null,
   "id": "a46e990e",
   "metadata": {},
   "outputs": [],
   "source": []
  }
 ],
 "metadata": {
  "kernelspec": {
   "display_name": "Python 3 (ipykernel)",
   "language": "python",
   "name": "python3"
  },
  "language_info": {
   "codemirror_mode": {
    "name": "ipython",
    "version": 3
   },
   "file_extension": ".py",
   "mimetype": "text/x-python",
   "name": "python",
   "nbconvert_exporter": "python",
   "pygments_lexer": "ipython3",
   "version": "3.9.13"
  }
 },
 "nbformat": 4,
 "nbformat_minor": 5
}
